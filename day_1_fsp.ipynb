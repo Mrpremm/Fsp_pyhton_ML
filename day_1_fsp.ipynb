{
 "cells": [
  {
   "cell_type": "code",
   "execution_count": 5,
   "id": "d0f0027a-ee18-43e3-90b3-06620a420442",
   "metadata": {},
   "outputs": [
    {
     "name": "stdout",
     "output_type": "stream",
     "text": [
      "[100, 300, 200, False, 400, True, 500] 7 <class 'list'>\n",
      "[100 300 200   0 400   1 500] 7 <class 'numpy.ndarray'>\n"
     ]
    }
   ],
   "source": [
    "import numpy as np\n",
    "data1=[100,300,200,False,400,True,500]\n",
    "print(data1,len(data1),type(data1))\n",
    "arr1=np.array(data1)\n",
    "print(arr1,len(arr1),type(arr1))"
   ]
  },
  {
   "cell_type": "code",
   "execution_count": 7,
   "id": "89d4d9b5-6b8d-4338-9748-6540e8a6243e",
   "metadata": {},
   "outputs": [
    {
     "name": "stdout",
     "output_type": "stream",
     "text": [
      "[100, 300, 200.5, False, 400, True, 500] 7 <class 'list'>\n",
      "[100.  300.  200.5   0.  400.    1.  500. ] 7 <class 'numpy.ndarray'>\n"
     ]
    }
   ],
   "source": [
    "import numpy as np\n",
    "data1=[100,300,200.5,False,400,True,500]\n",
    "print(data1,len(data1),type(data1))\n",
    "arr1=np.array(data1)\n",
    "print(arr1,len(arr1),type(arr1))"
   ]
  },
  {
   "cell_type": "code",
   "execution_count": 11,
   "id": "5d0f0da2-b412-47c5-abe9-1dde545b9bd8",
   "metadata": {},
   "outputs": [
    {
     "name": "stdout",
     "output_type": "stream",
     "text": [
      "[1, 2, 3, 4, 5, 6, 7, 8, 9]\n"
     ]
    }
   ],
   "source": [
    "print(list(range(1,10)))"
   ]
  },
  {
   "cell_type": "code",
   "execution_count": 21,
   "id": "6772a766-7b9e-47bd-8c11-df0d595db93b",
   "metadata": {},
   "outputs": [
    {
     "name": "stdout",
     "output_type": "stream",
     "text": [
      "list[range(1, 5), range(5, 9)]\n",
      "[[1, 2, 3, 4], [5, 6, 7, 8]]\n",
      "[[1, 2, 3, 4], [5, 6, 7, 8]] <class 'list'>\n",
      "[[1 2 3 4]\n",
      " [5 6 7 8]] <class 'numpy.ndarray'>\n"
     ]
    }
   ],
   "source": [
    "print(list[range(1,5),range(5,9)]) #creates a range object representing the sequence of numbers from 1 to 4 (the end value 5 is not included).\n",
    "print([list(range(1, 5)), list(range(5, 9))])\n",
    "\n",
    "data2=[[1,2,3,4],[5,6,7,8]] #data2 is a list of lists, where each sublist represents a row of numbers: [[1, 2, 3, 4], [5, 6, 7, 8]].\n",
    "arr2=np.array(data2) #NumPy recognizes this as a 2D array (or matrix), where each inner list becomes a row of the array.\n",
    "\n",
    "print(data2,type(data2))\n",
    "print(arr2,type(arr2))"
   ]
  },
  {
   "cell_type": "code",
   "execution_count": 23,
   "id": "e138580e-ff1b-4204-825b-ade42ca610ae",
   "metadata": {},
   "outputs": [
    {
     "name": "stdout",
     "output_type": "stream",
     "text": [
      "1, 2, 3, 4, 5, 6, 7, 8, "
     ]
    }
   ],
   "source": [
    "for x in np.nditer(arr2): #np.nditer(arr2) creates an iterator object that iterates over each element of the NumPy array arr2.\n",
    "    print (x, end = \", \")\n",
    "    #Flattening is the process of converting a multi-dimensional array (like a 2D matrix or a 3D array) into a one-dimensional (1D) array."
   ]
  },
  {
   "cell_type": "code",
   "execution_count": 25,
   "id": "70ac83b1-9cf7-4b69-950a-27d92c91e686",
   "metadata": {},
   "outputs": [
    {
     "name": "stdout",
     "output_type": "stream",
     "text": [
      "[100.  300.  200.5   0.  400.    1.  500. ] (7,) <class 'numpy.ndarray'>\n",
      "[[1 2 3 4]\n",
      " [5 6 7 8]] (2, 4) <class 'numpy.ndarray'>\n",
      "[100.0, 300.0, 200.5, 0.0, 400.0, 1.0, 500.0] <class 'list'>\n",
      "[[1, 2, 3, 4], [5, 6, 7, 8]] <class 'list'>\n"
     ]
    }
   ],
   "source": [
    "print (arr1, arr1.shape, type(arr1)) #The shape is a tuple that indicates the size of the array in each dimension.\n",
    "print (arr2, arr2.shape, type(arr2)) #indicating it is a 2D array with 2 rows and 4 columns\n",
    "data1 = arr1.tolist() #converts the NumPy array arr1 to a Python list.\n",
    "print (data1, type(data1))\n",
    "data2 = arr2.tolist()\n",
    "print (data2, type(data2))"
   ]
  },
  {
   "cell_type": "code",
   "execution_count": 29,
   "id": "e710bee9-e26b-4901-aeba-4d8ecff72cf1",
   "metadata": {},
   "outputs": [
    {
     "name": "stdout",
     "output_type": "stream",
     "text": [
      "[100.  300.  200.5   0.  400.    1.  500. ] <class 'numpy.ndarray'>\n",
      "7 (7,) 1 7 float64\n",
      "[[1 2 3 4]\n",
      " [5 6 7 8]] <class 'numpy.ndarray'>\n",
      "2 (2, 4) 2 8 int32\n"
     ]
    }
   ],
   "source": [
    "print (arr1, type(arr1))\n",
    "print (len(arr1), arr1.shape, arr1.ndim, arr1.size, arr1.dtype) #arr1.ndim: Returns the number of dimensions of arr1. For arr1, ndim would be 1 because it's a 1D array.\n",
    "print (arr2, type(arr2))\n",
    "print (len(arr2), arr2.shape, arr2.ndim, arr2.size, arr2.dtype)"
   ]
  },
  {
   "cell_type": "code",
   "execution_count": 31,
   "id": "41ff3bbf-73a2-49f6-b153-230ca64f67d7",
   "metadata": {},
   "outputs": [
    {
     "name": "stdout",
     "output_type": "stream",
     "text": [
      "[0. 0. 0. 0. 0. 0. 0. 0. 0. 0.]\n",
      "[0 0 0 0 0 0 0 0 0 0]\n",
      "[[0. 0. 0. 0. 0.]\n",
      " [0. 0. 0. 0. 0.]]\n",
      "[[0 0 0 0 0]\n",
      " [0 0 0 0 0]]\n",
      "[[0. 0. 0. 0. 0.]\n",
      " [0. 0. 0. 0. 0.]]\n",
      "[[0 0]\n",
      " [0 0]\n",
      " [0 0]\n",
      " [0 0]\n",
      " [0 0]]\n"
     ]
    }
   ],
   "source": [
    "\n",
    "print (np.zeros(10)) #This creates a 1-dimensional array with 10 elements, all initialized to 0.0.\n",
    "print (np.zeros(10).astype(int))  #astype(int) casts the elements of the array from their default float64 type to int.\n",
    "\n",
    "print (np.zeros((2, 5)))\n",
    "print (np.zeros((2, 5)).astype(int))\n",
    "print (np.zeros(10).reshape(2, 5)) #Reshapes an array to the specified dimensions without changing its data.\n",
    "print (np.zeros(10).reshape(5, 2).astype(int))"
   ]
  },
  {
   "cell_type": "code",
   "execution_count": 33,
   "id": "ce4433d3-e7ab-4a7f-810a-dfb773a5d7bd",
   "metadata": {},
   "outputs": [
    {
     "name": "stdout",
     "output_type": "stream",
     "text": [
      "[[0 1]\n",
      " [2 3]\n",
      " [4 5]\n",
      " [6 7]\n",
      " [8 9]] (5, 2)\n",
      "[[0 1]\n",
      " [2 3]\n",
      " [4 5]\n",
      " [6 7]\n",
      " [8 9]] (5, 2)\n",
      "[[0 2 4 6 8]\n",
      " [1 3 5 7 9]]\n",
      "[[0 2 4 6 8]\n",
      " [1 3 5 7 9]]\n"
     ]
    }
   ],
   "source": [
    "\n",
    "arr3 = np.array(range(10)).reshape(5, 2) #reshape(5, 2) reshapes this 1D array into a 2D array with 5 rows and 2 columns\n",
    "print (arr3, arr3.shape)\n",
    "arr3 = np.arange(10).reshape(5, 2) #np.arange(10) creates a NumPy array with values from 0 to 9: [0, 1, 2, 3, 4, 5, 6, 7, 8, 9]\n",
    "print (arr3, arr3.shape)\n",
    "print (arr3.T)\n",
    "print (arr3.transpose())"
   ]
  },
  {
   "cell_type": "code",
   "execution_count": 35,
   "id": "d7d195fc-d955-43a5-b737-b0dfa5597934",
   "metadata": {},
   "outputs": [
    {
     "name": "stdout",
     "output_type": "stream",
     "text": [
      "[[0. 1. 2. 3. 4.]\n",
      " [5. 6. 7. 8. 9.]]\n",
      "Stored in C-style order (Row Major):\n",
      "[[0. 1. 2. 3. 4.]\n",
      " [5. 6. 7. 8. 9.]]\n",
      "0.0, 1.0, 2.0, 3.0, 4.0, 5.0, 6.0, 7.0, 8.0, 9.0, "
     ]
    }
   ],
   "source": [
    "matrix = np.arange(10, dtype = float).reshape((2, 5))\n",
    "print (matrix)\n",
    "print(\"Stored in C-style order (Row Major):\")\n",
    "cmatrix = matrix.copy(order = 'C') #matrix.copy(order='C') creates a copy of matrix with C-style order (row-major order). In C-style order, the array is stored row-by-row in memory.\n",
    "\n",
    "print (cmatrix)\n",
    "for x in np.nditer(cmatrix):\n",
    "    print (x, end = \", \")"
   ]
  },
  {
   "cell_type": "code",
   "execution_count": 39,
   "id": "89db6b46-1509-4899-962a-ff0ca8a008af",
   "metadata": {},
   "outputs": [
    {
     "name": "stdout",
     "output_type": "stream",
     "text": [
      "[0 1 2 3 4 5 6 7 8 9] 10\n",
      "[ 0  1  2  3  4  5  6  7  8  9 10 11 12] 13\n",
      "[ 0  1  2 13 14 15  3  4  5  6  7  8  9 10 11 12] 16\n",
      "[ 0  1  2 13 14  5  6  7  8  9 10 11 12] 13\n",
      "[ 0  1  2  5  6  7  8  9 10 11 12 13 14]\n",
      "[  0  -1  -2  -5  -6  -7  -8  -9 -10 -11 -12 -13 -14]\n",
      "[14 13 12 11 10  9  8  7  6  5  2  1  0]\n"
     ]
    }
   ],
   "source": [
    "matrix = np.arange(10, dtype = np.int8) #np.arange(10, dtype=np.int8) creates an array with values from 0 to 9 using 8-bit integers.\n",
    "print (matrix, len(matrix))\n",
    "matrix = np.append(matrix, [10, 11, 12])\n",
    "print (matrix, len(matrix))\n",
    "matrix = np.insert(matrix, 3, [13, 14, 15])\n",
    "print (matrix, len(matrix))\n",
    "matrix = np.delete(matrix, [5, 6, 7])\n",
    "print (matrix,len(matrix))\n",
    "matrix = np.sort(matrix)\n",
    "print (matrix)\n",
    "print (-matrix)\n",
    "matrix = -np.sort(-matrix)\n",
    "print (matrix)\n"
   ]
  },
  {
   "cell_type": "code",
   "execution_count": 41,
   "id": "61dba536-154b-4e81-b65b-62a5653fe872",
   "metadata": {},
   "outputs": [
    {
     "name": "stdout",
     "output_type": "stream",
     "text": [
      "First Array:\n",
      "[[1 2]\n",
      " [3 4]]\n",
      "Second Array:\n",
      "[[5 6]\n",
      " [7 8]]\n",
      "Joining these two arrays along axis 0\n",
      "[[1 2]\n",
      " [3 4]\n",
      " [5 6]\n",
      " [7 8]]\n",
      "Joining these two arrays along axis 1\n",
      "[[1 2 5 6]\n",
      " [3 4 7 8]]\n"
     ]
    }
   ],
   "source": [
    "\n",
    "a = np.array([[1, 2], [3, 4]])\n",
    "print (\"First Array:\")\n",
    "print (a)\n",
    "b = np.array([[5, 6], [7, 8]])\n",
    "print (\"Second Array:\")\n",
    "print (b)\n",
    "# both the arrays are of the same dimensions\n",
    "print (\"Joining these two arrays along axis 0\") #Joining Along Axis 0: Stacks the arrays vertically, resulting in a larger array with combined rows.\n",
    "print (np.concatenate((a, b)))\n",
    "print (\"Joining these two arrays along axis 1\") #Joining Along Axis 1: Stacks the arrays horizontally, resulting in a larger array with combined columns.\n",
    "print (np.concatenate((a, b), axis = 1))"
   ]
  },
  {
   "cell_type": "code",
   "execution_count": 43,
   "id": "778b986c-da64-4da6-95b7-ffd8afb0ce8f",
   "metadata": {},
   "outputs": [
    {
     "name": "stdout",
     "output_type": "stream",
     "text": [
      "[10 20 30 40 50 60 70 80] (8,) 1\n",
      "[[10 20 30 40 50 60 70 80]] (1, 8) 2\n",
      "[[[10 20 30 40 50 60 70 80]]] (1, 1, 8) 3\n",
      "[[10 20 30 40 50 60 70 80]] (1, 8) 2\n",
      "[10 20 30 40 50 60 70 80] (8,) 1\n"
     ]
    }
   ],
   "source": [
    "\n",
    "a = np.array([10, 20, 30, 40, 50, 60, 70, 80])\n",
    "print (a, a.shape, a.ndim)\n",
    "a = a.reshape(1, -1) #reshape(1, -1) reshapes the array into a 2D array with 1 row and as many columns as needed to fit the data.\n",
    "#-1 allows NumPy to automatically calculate the number of columns\n",
    "print (a, a.shape, a.ndim)\n",
    "a = a.reshape(1, 1, -1)\n",
    "#reshape(1, 1, -1) reshapes the array into a 3D array with 1 depth, 1 row, and as many columns as needed to fit the data.\n",
    "print (a, a.shape, a.ndim)\n",
    "a = a.reshape(1, -1)\n",
    "print (a, a.shape, a.ndim)\n",
    "a = a.reshape(-1)\n",
    "#reshape(-1) flattens the array back to a 1D array. -1 means to flatten the array into a single dimension.\n",
    "print (a, a.shape, a.ndim)"
   ]
  },
  {
   "cell_type": "code",
   "execution_count": 49,
   "id": "98af286c-cc4c-4db7-aab9-046eb4b4ab69",
   "metadata": {},
   "outputs": [
    {
     "name": "stdout",
     "output_type": "stream",
     "text": [
      "[10 20 30 40 50 60 70 80] (8,) 1\n",
      "[[[10 20]\n",
      "  [30 40]]\n",
      "\n",
      " [[50 60]\n",
      "  [70 80]]] (2, 2, 2) 3\n"
     ]
    }
   ],
   "source": [
    "\n",
    "a = np.array([10, 20, 30, 40, 50, 60, 70, 80])\n",
    "print (a, a.shape, a.ndim)\n",
    "a = a.reshape(2, -1, 2)\n",
    "#Target Shape: You want to reshape it into (2, -1, 2):\n",
    "\n",
    "# 2: This is the number of blocks (or layers) you want.\n",
    "# -1: This tells NumPy to figure out the size of this dimension automatically based on the other dimensions.\n",
    "# 2: This is the number of columns you want in each row.\n",
    "# Determine the Size of the -1 Dimension:\n",
    "\n",
    "# You need to figure out how many rows fit into each block.\n",
    "\n",
    "# To do this, use the formula:\n",
    "\n",
    "# Number of elements\n",
    "# =\n",
    "# First dimension size\n",
    "# ×\n",
    "# Size of the second dimension\n",
    "# ×\n",
    "# Last dimension size\n",
    "# Number of elements=First dimension size×Size of the second dimension×Last dimension size\n",
    "# Substituting the known values:\n",
    "\n",
    "# 8\n",
    "# =\n",
    "# 2\n",
    "# ×\n",
    "# Size of the second dimension\n",
    "# ×\n",
    "# 2\n",
    "# 8=2×Size of the second dimension×2\n",
    "# Solving for the Size of the second dimension:\n",
    "\n",
    "# Size of the second dimension\n",
    "# =\n",
    "# 8\n",
    "# 2\n",
    "# ×\n",
    "# 2\n",
    "# =\n",
    "# 2\n",
    "# #Size of the second dimension= \n",
    "# 2×2\n",
    "# 8\n",
    "# ​\n",
    "# # =2\n",
    "print (a, a.shape, a.ndim)"
   ]
  },
  {
   "cell_type": "code",
   "execution_count": 51,
   "id": "94b241fe-a8cb-4f2b-9b93-2f55212c9c00",
   "metadata": {},
   "outputs": [
    {
     "name": "stdout",
     "output_type": "stream",
     "text": [
      "[0 1 2 3 4 5 6 7 8 9] [5 6 7]\n",
      "[ 0  1  2  3  4 20 20 20  8  9]\n",
      "[20 20 20]\n",
      "[90 90 90] [ 0  1  2  3  4 20 20 20  8  9] <class 'numpy.ndarray'>\n"
     ]
    }
   ],
   "source": [
    "arr = np.arange(10)\n",
    "print (arr, arr[5:8])\n",
    "arr[5:8] = 20\n",
    "print (arr)\n",
    "arr_copy = arr[5: 8].copy() #arr_copy = arr[5:8].copy() creates a new copy of the slice [20, 20, 20]\n",
    "print (arr_copy)\n",
    "arr_copy[:] = 90\n",
    "print (arr_copy, arr, type(arr_copy))"
   ]
  },
  {
   "cell_type": "code",
   "execution_count": null,
   "id": "6d121c5c-9a32-424b-ade7-166660bb2f42",
   "metadata": {},
   "outputs": [],
   "source": []
  }
 ],
 "metadata": {
  "kernelspec": {
   "display_name": "Python 3 (ipykernel)",
   "language": "python",
   "name": "python3"
  },
  "language_info": {
   "codemirror_mode": {
    "name": "ipython",
    "version": 3
   },
   "file_extension": ".py",
   "mimetype": "text/x-python",
   "name": "python",
   "nbconvert_exporter": "python",
   "pygments_lexer": "ipython3",
   "version": "3.12.4"
  }
 },
 "nbformat": 4,
 "nbformat_minor": 5
}
